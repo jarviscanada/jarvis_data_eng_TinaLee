﻿{
  "metadata": {
    "name": "Jarvis Hive Project",
    "kernelspec": {
      "language": "scala",
      "name": "spark2-scala"
    },
    "language_info": {
      "codemirror_mode": "text/x-scala",
      "file_extension": ".scala",
      "mimetype": "text/x-scala",
      "name": "scala",
      "pygments_lexer": "scala"
    }
  },
  "nbformat": 4,
  "nbformat_minor": 2,
  "cells": [
    {
      "cell_type": "markdown",
      "metadata": {},
      "source": "# Query GS data\n- Create a hive table (`wdi_gs`) against the gs wdi_2016 data.\n- Count number of rows from the wdi_gs table"
    },
    {
      "cell_type": "code",
      "execution_count": 1,
      "metadata": {
        "autoscroll": "auto"
      },
      "outputs": [],
      "source": "DROP TABLE IF EXISTS wdi_gs"
    },
    {
      "cell_type": "code",
      "execution_count": 2,
      "metadata": {
        "autoscroll": "auto"
      },
      "outputs": [],
      "source": "CREATE EXTERNAL TABLE wdi_gs\n(year INTEGER, countryName STRING, countryCode STRING, indicatorName STRING, indicatorCode STRING, indicatorValue FLOAT)\nROW FORMAT DELIMITED FIELDS TERMINATED BY \u0027,\u0027 LINES TERMINATED BY \u0027\\n\u0027\nLOCATION \u0027gs://jarvis_data_eng_tina/datasets/wdi_2016\u0027\nTBLPROPERTIES (\"skip.header.line.count\"\u003d\"1\")"
    },
    {
      "cell_type": "code",
      "execution_count": 3,
      "metadata": {
        "autoscroll": "auto"
      },
      "outputs": [],
      "source": "-- show table meta data\nDESCRIBE FORMATTED wdi_gs"
    },
    {
      "cell_type": "code",
      "execution_count": 4,
      "metadata": {
        "autoscroll": "auto"
      },
      "outputs": [],
      "source": "SELECT count(countryName) as count FROM wdi_gs"
    },
    {
      "cell_type": "markdown",
      "metadata": {},
      "source": "## Load GS Data to HDFS\nThe `wdi_2016.csv` file stored in Google Cloud Storage is copied and stored in HDFS. Then a query that count the number of rows in the newly created Hivet able (`wdi_csv_text`) is executed twice. The first execution is appoximately 2 times slower than the second execution, becuase the  file system cache holds data that was recently read from the disk, making it possible for subsequent requests to obtain data from cache rather than having to read it again from the disk."
    },
    {
      "cell_type": "code",
      "execution_count": 6,
      "metadata": {
        "autoscroll": "auto"
      },
      "outputs": [],
      "source": "DROP TABLE IF EXISTS wdi_csv_text"
    },
    {
      "cell_type": "code",
      "execution_count": 7,
      "metadata": {
        "autoscroll": "auto"
      },
      "outputs": [],
      "source": "--Create an external table, called wdi_csv_text\nCREATE EXTERNAL TABLE wdi_csv_text\n(year INTEGER, countryName STRING, countryCode STRING, indicatorName STRING, indicatorCode STRING, indicatorValue FLOAT)\nROW FORMAT DELIMITED FIELDS TERMINATED BY \u0027,\u0027 LINES TERMINATED BY \u0027\\n\u0027\nLOCATION \u0027hdfs:///user/yijen28lee/hive/wdi/wdi_csv_text\u0027"
    },
    {
      "cell_type": "code",
      "execution_count": 8,
      "metadata": {
        "autoscroll": "auto"
      },
      "outputs": [],
      "source": "--loads data from wdi_gs table to wdi_csv_text table\nINSERT OVERWRITE TABLE wdi_csv_text\nSELECT * FROM wdi_gs"
    },
    {
      "cell_type": "code",
      "execution_count": 9,
      "metadata": {
        "autoscroll": "auto"
      },
      "outputs": [],
      "source": "--run select statement twice and compare the run time\nSELECT count(countryName) FROM wdi_csv_text"
    },
    {
      "cell_type": "code",
      "execution_count": 10,
      "metadata": {
        "autoscroll": "auto"
      },
      "outputs": [],
      "source": "SELECT count(countryName) FROM wdi_csv_text\n--second run was 3 sec faster than the first one, because the file system cache holds data that was recelty read from the disk."
    },
    {
      "cell_type": "markdown",
      "metadata": {},
      "source": "## Parsing\nThe indicatorname column contains string that may contain commas and this is a problem when we use default SimpleLazySerDe to convert our data into Hive table. Instead we can use OpenCSV SerDe to parse our data into Hive columns."
    },
    {
      "cell_type": "code",
      "execution_count": 12,
      "metadata": {
        "autoscroll": "auto"
      },
      "outputs": [],
      "source": "SELECT distinct(indicatorcode)\nFROM wdi_csv_text\nORDER BY indicatorcode\nLIMIT 20"
    },
    {
      "cell_type": "code",
      "execution_count": 13,
      "metadata": {
        "autoscroll": "auto"
      },
      "outputs": [],
      "source": "DROP TABLE IF EXISTS wdi_gs_debug"
    },
    {
      "cell_type": "code",
      "execution_count": 14,
      "metadata": {
        "autoscroll": "auto"
      },
      "outputs": [],
      "source": "--create a debug table\nCREATE EXTERNAL TABLE wdi_gs_debug\n(line STRING)\nLOCATION \u0027gs://jarvis_data_eng_tina/datasets/wdi_2016\u0027"
    },
    {
      "cell_type": "code",
      "execution_count": 15,
      "metadata": {
        "autoscroll": "auto"
      },
      "outputs": [],
      "source": "--query all lines contain wrong indicator\nSELECT DISTINCT(line) FROM wdi_gs_debug \nWHERE line like \"%(\\% of urban population)\\\"%\""
    },
    {
      "cell_type": "code",
      "execution_count": 16,
      "metadata": {
        "autoscroll": "auto"
      },
      "outputs": [],
      "source": "DROP TABLE IF EXISTS wdi_opencsv_gs"
    },
    {
      "cell_type": "code",
      "execution_count": 17,
      "metadata": {
        "autoscroll": "auto"
      },
      "outputs": [],
      "source": "--#1 create wdi_opencsv_gs and load GS data with OpenCSVSerde\nCREATE EXTERNAL TABLE wdi_opencsv_gs\n(year INTEGER, countryName STRING, countryCode STRING, indicatorName STRING, indicatorCode STRING, indicatorValue FLOAT)\nROW FORMAT SERDE \u0027org.apache.hadoop.hive.serde2.OpenCSVSerde\u0027\nLOCATION \u0027gs://jarvis_data_eng_tina/datasets/wdi_2016\u0027"
    },
    {
      "cell_type": "code",
      "execution_count": 18,
      "metadata": {
        "autoscroll": "auto"
      },
      "outputs": [],
      "source": "SELECT distinct(indicatorCode) from wdi_opencsv_gs"
    },
    {
      "cell_type": "code",
      "execution_count": 19,
      "metadata": {
        "autoscroll": "auto"
      },
      "outputs": [],
      "source": "DROP TABLE IF EXISTS wdi_opencsv_text"
    },
    {
      "cell_type": "code",
      "execution_count": 20,
      "metadata": {
        "autoscroll": "auto"
      },
      "outputs": [],
      "source": "--#2 create wdi_opencsv_text destination table\nCREATE EXTERNAL TABLE wdi_opencsv_text\n(year INTEGER, countryName STRING, countryCode STRING, indicatorName STRING, indicatorCode STRING, indicatorValue FLOAT)\nROW FORMAT SERDE \u0027org.apache.hadoop.hive.serde2.OpenCSVSerde\u0027\nLOCATION \u0027hdfs:///user/yijen28lee/hive/wdi/wdi_opencsv_text\u0027"
    },
    {
      "cell_type": "code",
      "execution_count": 21,
      "metadata": {
        "autoscroll": "auto"
      },
      "outputs": [],
      "source": "--#3 load datafrom wdi_opencsv_gs to wdi_opencsv_text\nINSERT OVERWRITE TABLE wdi_opencsv_text\nSELECT * FROM wdi_opencsv_gs"
    },
    {
      "cell_type": "code",
      "execution_count": 22,
      "metadata": {
        "autoscroll": "auto"
      },
      "outputs": [],
      "source": "--#4 verify parsing\nSELECT distinct(indicatorCode) from wdi_opencsv_text"
    },
    {
      "cell_type": "code",
      "execution_count": 23,
      "metadata": {
        "autoscroll": "auto"
      },
      "outputs": [],
      "source": "--#5 compare execution time \nSELECT count(countryName) FROM wdi_opencsv_text"
    },
    {
      "cell_type": "markdown",
      "metadata": {},
      "source": "## OpenCSVSerde limitation\nThere are some limitations using OpenCSVSerde and one of them is that OpenCSVSerde treats every column datatype as string even when the column datatype in csv is non-string. We could solve this by creating a view and cast string columns as other datatype."
    },
    {
      "cell_type": "code",
      "execution_count": 25,
      "metadata": {
        "autoscroll": "auto"
      },
      "outputs": [],
      "source": "--compare two table\nDESCRIBE FORMATTED wdi_opencsv_text "
    },
    {
      "cell_type": "code",
      "execution_count": 26,
      "metadata": {
        "autoscroll": "auto"
      },
      "outputs": [],
      "source": "DESCRIBE FORMATTED wdi_csv_text"
    },
    {
      "cell_type": "code",
      "execution_count": 27,
      "metadata": {
        "autoscroll": "auto"
      },
      "outputs": [],
      "source": "DROP VIEW IF EXISTS wdi_opencsv_view"
    },
    {
      "cell_type": "code",
      "execution_count": 28,
      "metadata": {
        "autoscroll": "auto"
      },
      "outputs": [],
      "source": "--create a view\nCREATE VIEW wdi_opencsv_view AS\nSELECT cast(year AS INTEGER), countryname, countrycode, indicatorcode, cast(indicatorvalue AS FLOAT)\nFROM wdi_opencsv_text"
    },
    {
      "cell_type": "markdown",
      "metadata": {},
      "source": "## 2015 Canada GDP Growth\nA query is executed to find 2015 GDP growth for Canada."
    },
    {
      "cell_type": "code",
      "execution_count": 30,
      "metadata": {
        "autoscroll": "auto"
      },
      "outputs": [],
      "source": "-- find the correct indicator/code\nSELECT distinct(indicatorcode), indicatorname\nFROM wdi_opencsv_text\nWHERE indicatorcode LIKE \u0027%GDP%\u0027"
    },
    {
      "cell_type": "code",
      "execution_count": 31,
      "metadata": {
        "autoscroll": "auto"
      },
      "outputs": [],
      "source": "-- find 2015 Canada GDP\nSELECT indicatorvalue, year, countryname\nFROM wdi_opencsv_text\nWHERE countryname \u003d \u0027Canada\u0027 AND indicatorcode \u003d \u0027NY.GDP.MKTP.KD.ZG\u0027 AND year \u003d \u00272015\u0027"
    },
    {
      "cell_type": "markdown",
      "metadata": {},
      "source": "## Hive Partition\nIn the previous section a query is executed to find the GDP growth of Canada in 2015. However the runtime is more than one minute, which is slow.To solve this problem, we partition the table by year, so when we specify a certain year in the WHERE clause, the system will only go through year specified instead of all the rows in the table."
    },
    {
      "cell_type": "code",
      "execution_count": 33,
      "metadata": {
        "autoscroll": "auto"
      },
      "outputs": [],
      "source": "DROP TABLE IF EXISTS wdi_opencsv_text_partitions"
    },
    {
      "cell_type": "code",
      "execution_count": 34,
      "metadata": {
        "autoscroll": "auto"
      },
      "outputs": [],
      "source": "-- create table which partitioned by year\nCREATE EXTERNAL TABLE wdi_opencsv_text_partitions\n(countryName STRING, countryCode STRING, indicatorName STRING, indicatorCode STRING ,indicatorValue FLOAT)\nPARTITIONED BY (year INTEGER)\nROW FORMAT DELIMITED\nLOCATION \u0027hdfs:///user/yijen28lee/hive/wdi/wdi_opencsv_text_partitions\u0027"
    },
    {
      "cell_type": "code",
      "execution_count": 35,
      "metadata": {
        "autoscroll": "auto"
      },
      "outputs": [],
      "source": "set hive.exec.dynamic.partition.mode\u003dnonstrict \n--set dynamic partition, so we don\u0027t have to manage which partition have to be create and inserted into from the input table"
    },
    {
      "cell_type": "code",
      "execution_count": 36,
      "metadata": {
        "autoscroll": "auto"
      },
      "outputs": [],
      "source": "--load data\nINSERT OVERWRITE TABLE wdi_opencsv_text_partitions PARTITION (year)\nSELECT countryname, countrycode, indicatorname, indicatorcode, indicatorvalue, year\nFROM wdi_opencsv_text"
    },
    {
      "cell_type": "code",
      "execution_count": 37,
      "metadata": {
        "autoscroll": "auto"
      },
      "outputs": [],
      "source": "%sh\n# check how many partition created\nhdfs dfs -ls hdfs:///user/yijen28lee/hive/wdi/wdi_opencsv_text_partitions"
    },
    {
      "cell_type": "code",
      "execution_count": 38,
      "metadata": {
        "autoscroll": "auto"
      },
      "outputs": [],
      "source": "--retrive 2015 GDP growth for Canada\nSELECT indicatorvalue, year, countryname\nFROM wdi_opencsv_text_partitions\nWHERE countryname \u003d \u0027Canada\u0027 AND indicatorcode \u003d \u0027NY.GDP.MKTP.KD.ZG\u0027 AND year \u003d \u00272015\u0027"
    },
    {
      "cell_type": "markdown",
      "metadata": {},
      "source": "## Columnar File Optimization\nA columnar database stores data by columns rather than by rows. Columnar database can efficiently write and read data from hard disk storage in order to speed up the time it takes to return a query. The following section optimize HQL query using columnar method."
    },
    {
      "cell_type": "code",
      "execution_count": 40,
      "metadata": {
        "autoscroll": "auto"
      },
      "outputs": [],
      "source": "DROP TABLE IF EXISTS wdi_csv_parquet"
    },
    {
      "cell_type": "code",
      "execution_count": 41,
      "metadata": {
        "autoscroll": "auto"
      },
      "outputs": [],
      "source": "--create table stored as PARQUET\nCREATE EXTERNAL TABLE IF NOT EXISTS wdi_csv_parquet\n(year INTEGER, countryName STRING, countryCode STRING, indicatorName STRING, indicatorCode STRING ,indicatorValue FLOAT)\nSTORED AS PARQUET\nLOCATION \u0027hdfs:///user/yijen28lee/hive/wdi/wdi_csv_parquet\u0027"
    },
    {
      "cell_type": "code",
      "execution_count": 42,
      "metadata": {
        "autoscroll": "auto"
      },
      "outputs": [],
      "source": "--load data from wdi_opencsv_gs\nINSERT OVERWRITE TABLE wdi_csv_parquet\nSELECT * FROM wdi_opencsv_gs"
    },
    {
      "cell_type": "code",
      "execution_count": 43,
      "metadata": {
        "autoscroll": "auto"
      },
      "outputs": [],
      "source": "%sh\n# compare file size between wdi_csv_parquet and wdi_opencsv_text\nhdfs dfs -du -s -h hdfs:///user/yijen28lee/hive/wdi/wdi_csv_parquet"
    },
    {
      "cell_type": "code",
      "execution_count": 44,
      "metadata": {
        "autoscroll": "auto"
      },
      "outputs": [],
      "source": "%sh\nhdfs dfs -du -s -h hdfs:///user/yijen28lee/hive/wdi/wdi_opencsv_text"
    },
    {
      "cell_type": "code",
      "execution_count": 45,
      "metadata": {
        "autoscroll": "auto"
      },
      "outputs": [],
      "source": "--compare runtime\nSELECT count(countryname) FROM wdi_opencsv_text"
    },
    {
      "cell_type": "code",
      "execution_count": 46,
      "metadata": {
        "autoscroll": "auto"
      },
      "outputs": [],
      "source": "SELECT count(countryname) FROM wdi_csv_parquet"
    },
    {
      "cell_type": "code",
      "execution_count": 47,
      "metadata": {
        "autoscroll": "auto"
      },
      "outputs": [],
      "source": "-- execute 2015 Canada GDP Growth HQL against two table\nSELECT indicatorvalue, year, countryname\nFROM wdi_opencsv_text\nWHERE countryname \u003d \u0027Canada\u0027 AND indicatorcode \u003d \u0027NY.GDP.MKTP.KD.ZG\u0027 AND year \u003d \u00272015\u0027"
    },
    {
      "cell_type": "code",
      "execution_count": 48,
      "metadata": {
        "autoscroll": "auto"
      },
      "outputs": [],
      "source": "SELECT indicatorvalue, year, countryname\nFROM wdi_csv_parquet\nWHERE countryname \u003d \u0027Canada\u0027 AND indicatorcode \u003d \u0027NY.GDP.MKTP.KD.ZG\u0027 AND year \u003d \u00272015\u0027"
    },
    {
      "cell_type": "markdown",
      "metadata": {},
      "source": "## Highest GDP growth\nHere we find the highest GDP_growth_value for each country and its corresponding year."
    },
    {
      "cell_type": "code",
      "execution_count": 50,
      "metadata": {
        "autoscroll": "auto"
      },
      "outputs": [],
      "source": "-- find highest GDP Growth year for each country\nSELECT wcp.indicatorvalue as GDP_growth_value, wcp.year, wcp.countryname\nFROM (\n    SELECT max(indicatorvalue) as value, countryname \n    FROM wdi_csv_parquet\n    WHERE indicatorcode \u003d \u0027NY.GDP.MKTP.KD.ZG\u0027 AND indicatorvalue !\u003d 0\n    GROUP BY countryname \n) m\nINNER JOIN wdi_csv_parquet  wcp ON m.value \u003d wcp.indicatorvalue AND m.countryname \u003d wcp.countryname\nORDER BY GDP_growth_value DESC"
    },
    {
      "cell_type": "code",
      "execution_count": 51,
      "metadata": {
        "autoscroll": "auto"
      },
      "outputs": [],
      "source": "%spark.sql\nSELECT wcp.indicatorvalue as GDP_growth_value, wcp.year, wcp.countryname\nFROM (\n    SELECT max(indicatorvalue) as value, countryname \n    FROM wdi_csv_parquet\n    WHERE indicatorcode \u003d \u0027NY.GDP.MKTP.KD.ZG\u0027 AND indicatorvalue !\u003d 0\n    GROUP BY countryname \n) m\nINNER JOIN wdi_csv_parquet  wcp ON m.value \u003d wcp.indicatorvalue AND m.countryname \u003d wcp.countryname\nORDER BY GDP_growth_value DESC"
    },
    {
      "cell_type": "markdown",
      "metadata": {},
      "source": "## Sort GDP\nDisplays GDP_growth_value for every country in the table and sort the result based on countryname and year."
    },
    {
      "cell_type": "code",
      "execution_count": 53,
      "metadata": {
        "autoscroll": "auto"
      },
      "outputs": [],
      "source": "SELECT countryname, year, indicatorcode, indicatorvalue\nFROM wdi_csv_parquet\nWHERE indicatorcode \u003d \u0027NY.GDP.MKTP.KD.ZG\u0027 \nDISTRIBUTE BY countryname\nSORT BY countryname ASC, year ASC"
    }
  ]
}